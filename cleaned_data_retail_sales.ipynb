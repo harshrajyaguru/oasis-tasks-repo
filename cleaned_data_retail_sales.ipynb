{
  "nbformat": 4,
  "nbformat_minor": 0,
  "metadata": {
    "colab": {
      "provenance": []
    },
    "kernelspec": {
      "name": "python3",
      "display_name": "Python 3"
    },
    "language_info": {
      "name": "python"
    }
  },
  "cells": [
    {
      "cell_type": "code",
      "source": [
        "import pandas as pd\n"
      ],
      "metadata": {
        "id": "T1g6YYx9Pcuf"
      },
      "execution_count": null,
      "outputs": []
    },
    {
      "cell_type": "code",
      "source": [
        "df = pd.read_csv('/content/drive/MyDrive/Colab Notebooks/retail_sales_dataset.csv')"
      ],
      "metadata": {
        "id": "ryC9aR61Pis0"
      },
      "execution_count": null,
      "outputs": []
    },
    {
      "cell_type": "code",
      "source": [
        "df = df.dropna(how='any')\n",
        "df = df.drop_duplicates()"
      ],
      "metadata": {
        "id": "Yvh_bk1nP2Gj"
      },
      "execution_count": null,
      "outputs": []
    },
    {
      "cell_type": "code",
      "source": [
        "df['Date'] = pd.to_datetime(df['Date'], errors='coerce')\n",
        "df['Age'] = pd.to_numeric(df['Age'], errors='coerce', downcast='integer')\n",
        "df['Quantity'] = pd.to_numeric(df['Quantity'], errors='coerce', downcast='integer')\n",
        "df['Price per Unit'] = pd.to_numeric(df['Price per Unit'], errors='coerce', downcast='float')\n",
        "df['Total Amount'] = pd.to_numeric(df['Total Amount'], errors='coerce', downcast='float')"
      ],
      "metadata": {
        "id": "up9JCZQpRPjX"
      },
      "execution_count": null,
      "outputs": []
    },
    {
      "cell_type": "code",
      "source": [
        "df = df.dropna(subset=['Date', 'Age', 'Quantity', 'Price per Unit', 'Total Amount'])"
      ],
      "metadata": {
        "id": "VsJznFk4SCXh"
      },
      "execution_count": null,
      "outputs": []
    },
    {
      "cell_type": "code",
      "source": [],
      "metadata": {
        "id": "-XgFyXKvSF5y"
      },
      "execution_count": null,
      "outputs": []
    }
  ]
}